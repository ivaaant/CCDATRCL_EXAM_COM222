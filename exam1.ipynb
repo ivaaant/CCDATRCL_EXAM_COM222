{
  "cells": [
    {
      "cell_type": "markdown",
      "metadata": {
        "id": "yaz2B0KGFehP"
      },
      "source": [
        "# Midterm Exam 💛💙"
      ]
    },
    {
      "cell_type": "markdown",
      "metadata": {
        "id": "_DmK1ONEFehQ"
      },
      "source": [
        "**Instructions** ❗️❗️\n",
        "\n",
        "❌ Do not remove or modify the notebook **sections**, **subsections**, **exam questions** or **any text** in this python notebook\n",
        "\n",
        "✔️ Put your answer in the designated cells below each question"
      ]
    },
    {
      "cell_type": "markdown",
      "metadata": {
        "id": "TMCAXKWCFehR"
      },
      "source": [
        "## Search"
      ]
    },
    {
      "cell_type": "code",
      "execution_count": 1,
      "metadata": {
        "id": "Fy8nEBRRFehR"
      },
      "outputs": [],
      "source": [
        "def linearSearch(my_list, number):\n",
        "\n",
        "    index = 0\n",
        "\n",
        "    for i in my_list:\n",
        "\n",
        "        if my_list[index] == number:\n",
        "            return index\n",
        "\n",
        "        index = index + 1\n",
        "\n",
        "    return -1"
      ]
    },
    {
      "cell_type": "markdown",
      "metadata": {
        "id": "AjAevpueFehS"
      },
      "source": [
        "1. Using **linear search**, write a `findLargestIncrease()` function to find the largest increase in value between two adjacent numbers in your student number `(10 points)`\n",
        "\n",
        "    **Example:**\n",
        "\n",
        "    student_number = [2,0,2,2,6,2,5,1,9,3]\n",
        "\n",
        "    **Expected Output:**\n",
        "\n",
        "    findLargestIncrease(student_number)\n",
        "\n",
        "    Output: Between 1 and 9\n",
        "\n",
        "    **Explanation:**\n",
        "\n",
        "    From this student_number, the largest increase happened from number 1 to number 9"
      ]
    },
    {
      "cell_type": "code",
      "execution_count": 2,
      "metadata": {
        "id": "JE8nEfyJFehS",
        "outputId": "dd1fe7af-eb68-440b-97a9-cd6470813586",
        "colab": {
          "base_uri": "https://localhost:8080/"
        }
      },
      "outputs": [
        {
          "output_type": "stream",
          "name": "stdout",
          "text": [
            "Output: Between 4 and 9\n"
          ]
        }
      ],
      "source": [
        "# put your answer here\n",
        "def findLargestIncrease(student_number):\n",
        "    largest_increase = 0\n",
        "    start_index = 0\n",
        "    end_index = 0\n",
        "\n",
        "    for i in range(len(student_number) - 1):\n",
        "        increase = student_number[i + 1] - student_number[i]\n",
        "        if increase > largest_increase:\n",
        "            largest_increase = increase\n",
        "            start_index = i\n",
        "            end_index = i + 1\n",
        "\n",
        "    return f\"Between {student_number[start_index]} and {student_number[end_index]}\"\n",
        "\n",
        "# Student number: 2022-104964\n",
        "student_number = [2, 0, 2, 2, 1, 0, 4, 9, 6, 4]\n",
        "result = findLargestIncrease(student_number)\n",
        "print(\"Output:\", result)\n"
      ]
    },
    {
      "cell_type": "markdown",
      "metadata": {
        "id": "nMyr1fNyFehS"
      },
      "source": [
        "2. Using **linear search**, write a `findLargestDecrease()` function to find the largest decrease in value between two adjacent numbers in your student number `(10 points)`\n",
        "\n",
        "    **Example:**\n",
        "\n",
        "    student_number = [2,0,2,2,6,2,5,1,9,3]\n",
        "\n",
        "    **Expected Output:**\n",
        "\n",
        "    findLargestDecrease(student_number)\n",
        "\n",
        "    Output: Between 9 and 3\n",
        "\n",
        "    **Explanation:**\n",
        "\n",
        "    From this student_number, the largest decrease happened from number 9 to number 3"
      ]
    },
    {
      "cell_type": "code",
      "execution_count": 3,
      "metadata": {
        "id": "bfMfQVbVFehS",
        "outputId": "c0d539c9-0ee4-479e-a74e-9b42b2768b5a",
        "colab": {
          "base_uri": "https://localhost:8080/"
        }
      },
      "outputs": [
        {
          "output_type": "stream",
          "name": "stdout",
          "text": [
            "Output: Between 9 and 6\n"
          ]
        }
      ],
      "source": [
        "# put your answer here\n",
        "def findLargestDecrease(student_number):\n",
        "    largest_decrease = 0\n",
        "    start_index = 0\n",
        "    end_index = 0\n",
        "\n",
        "    for i in range(len(student_number) - 1):\n",
        "        decrease = student_number[i] - student_number[i + 1]\n",
        "        if decrease > largest_decrease:\n",
        "            largest_decrease = decrease\n",
        "            start_index = i\n",
        "            end_index = i + 1\n",
        "\n",
        "    return f\"Between {student_number[start_index]} and {student_number[end_index]}\"\n",
        "\n",
        "student_number = [2, 0, 2, 2, 1, 0, 4, 9, 6, 4]\n",
        "result = findLargestDecrease(student_number)\n",
        "print(\"Output:\", result)\n"
      ]
    },
    {
      "cell_type": "markdown",
      "metadata": {
        "id": "NtKSQn9QFehS"
      },
      "source": [
        "## Linked List"
      ]
    },
    {
      "cell_type": "code",
      "execution_count": null,
      "metadata": {
        "id": "0HP5zyJcFehS"
      },
      "outputs": [],
      "source": [
        "class Node:\n",
        "\n",
        "    def __init__(self, data):\n",
        "        self.data = data\n",
        "        self.next = None  # null"
      ]
    },
    {
      "cell_type": "code",
      "execution_count": null,
      "metadata": {
        "id": "A-8Uefe7FehS"
      },
      "outputs": [],
      "source": [
        "class LinkedList:\n",
        "\n",
        "    def __init__(self):\n",
        "        self.head = None\n",
        "\n",
        "    def traverse(self, node):\n",
        "        while node:\n",
        "            print(node.data, end=\" -> \")\n",
        "            node = node.next"
      ]
    },
    {
      "cell_type": "markdown",
      "metadata": {
        "id": "uPgIJJuSFehT"
      },
      "source": [
        "**Instructions** ❗️❗️\n",
        "\n",
        "Use the pre-defined linked list class/functions to create a linked list"
      ]
    },
    {
      "cell_type": "markdown",
      "metadata": {
        "id": "WIwpW7Q2FehT"
      },
      "source": [
        "1. Create a Singly linked list named **num_list** and print all of its elements. `(5 points)`\n",
        "\n",
        "- **num_list** should contain all digits of your student number.\n",
        "\n",
        "    **Expected Output:**\n",
        "\n",
        "    print(num_list)\n",
        "\n",
        "    [2, 0, 2, 2, 1, 2, 3, 4, 5, 6]"
      ]
    },
    {
      "cell_type": "code",
      "execution_count": 10,
      "metadata": {
        "id": "Lihv0JPiFehT",
        "outputId": "ab5e439e-8321-460e-8ee8-7f1c0abc7e8d",
        "colab": {
          "base_uri": "https://localhost:8080/"
        }
      },
      "outputs": [
        {
          "output_type": "stream",
          "name": "stdout",
          "text": [
            "[2, 0, 2, 2, 1, 0, 4, 9, 6, 4, ]\n"
          ]
        }
      ],
      "source": [
        "# put your answer here\n",
        "class Node:\n",
        "    def __init__(self, data):\n",
        "        self.data = data\n",
        "        self.next = None\n",
        "\n",
        "class LinkedList:\n",
        "    def __init__(self):\n",
        "        self.head = None\n",
        "\n",
        "    def traverse(self, node):\n",
        "        while node:\n",
        "            print(node.data, end=\", \")\n",
        "            node = node.next\n",
        "\n",
        "def create_linked_list_from_digits(number):\n",
        "    num_list = LinkedList()\n",
        "    for digit in str(number):\n",
        "        new_node = Node(int(digit))\n",
        "        if not num_list.head:\n",
        "            num_list.head = new_node\n",
        "        else:\n",
        "            current_node = num_list.head\n",
        "            while current_node.next:\n",
        "                current_node = current_node.next\n",
        "            current_node.next = new_node\n",
        "    return num_list\n",
        "\n",
        "#student number\n",
        "student_number = 2022104964\n",
        "\n",
        "num_list = create_linked_list_from_digits(abs(student_number))\n",
        "\n",
        "print(\"[\", end=\"\")\n",
        "num_list.traverse(num_list.head)\n",
        "print(\"]\")\n",
        "\n"
      ]
    },
    {
      "cell_type": "markdown",
      "metadata": {
        "id": "dqA2UYrYFehT"
      },
      "source": [
        "2. Write a `hasPrime()` function to test whether a prime number is in the last six digits of **num_list**. `(5 points)`\n",
        "\n",
        "- If a prime number is in the last six digits of **num_list**, the method should return **true**\n",
        "\n",
        "- If a prime number is not in the last six digits of **num_list**, the method should return **false**\n",
        "\n",
        "    **Expected Output:**\n",
        "\n",
        "    hasPrime(num_list)\n",
        "\n",
        "    True"
      ]
    },
    {
      "cell_type": "code",
      "execution_count": 13,
      "metadata": {
        "id": "GYwsQNz5FehT",
        "outputId": "8e755c77-3b99-4f51-af4c-7975f551f9c9",
        "colab": {
          "base_uri": "https://localhost:8080/"
        }
      },
      "outputs": [
        {
          "output_type": "stream",
          "name": "stdout",
          "text": [
            "False\n"
          ]
        }
      ],
      "source": [
        "# put your answer here\n",
        "import math\n",
        "\n",
        "def create_linked_list_from_digits(number):\n",
        "    num_list = LinkedList()\n",
        "    for digit in str(number):\n",
        "        new_node = Node(int(digit))\n",
        "        if not num_list.head:\n",
        "            num_list.head = new_node\n",
        "        else:\n",
        "            current_node = num_list.head\n",
        "            while current_node.next:\n",
        "                current_node = current_node.next\n",
        "            current_node.next = new_node\n",
        "    return num_list\n",
        "\n",
        "def is_prime(num):\n",
        "    if num < 2:\n",
        "        return False\n",
        "    if num == 2:\n",
        "        return True\n",
        "    if num % 2 == 0:\n",
        "        return False\n",
        "\n",
        "    max_divisor = math.isqrt(num) + 1\n",
        "    for i in range(3, max_divisor, 2):\n",
        "        if num % i == 0:\n",
        "            return False\n",
        "    return True\n",
        "\n",
        "def hasPrime(linked_list):\n",
        "    current_node = linked_list.head\n",
        "    digits = []\n",
        "\n",
        "    while current_node:\n",
        "        digits.append(current_node.data)\n",
        "        current_node = current_node.next\n",
        "\n",
        "    for i in range(max(0, len(digits) - 6), len(digits)):\n",
        "        if is_prime(digits[i]):\n",
        "            return True\n",
        "\n",
        "    return False\n",
        "\n",
        "student_number = 2022104964\n",
        "\n",
        "num_list = create_linked_list_from_digits(abs(student_number))\n",
        "\n",
        "print(hasPrime(num_list))\n"
      ]
    },
    {
      "cell_type": "markdown",
      "metadata": {
        "id": "5Qb0BOiwFehT"
      },
      "source": [
        "3. Write a `removeZeroes()` function to remove all occurrences of zeroes in **num_list**. `(5 points)`\n",
        "\n",
        "- If a zero is in **num_list**, return **num_list**\n",
        "\n",
        "- If there are no zeroes in **num_list**, return **\"no zeros found\"**\n",
        "\n",
        "    **Expected Output:**\n",
        "\n",
        "    removeZeroes(num_list)\n",
        "\n",
        "    [2, 2, 1, 2, 3, 4, 5, 6]"
      ]
    },
    {
      "cell_type": "code",
      "execution_count": 27,
      "metadata": {
        "id": "k1vAHUYuFehT",
        "outputId": "9f146632-ff6d-4fd3-b692-427e664b6758",
        "colab": {
          "base_uri": "https://localhost:8080/"
        }
      },
      "outputs": [
        {
          "output_type": "stream",
          "name": "stdout",
          "text": [
            "[2, 2, 2, 1, 4, 9, 6, 4]"
          ]
        }
      ],
      "source": [
        "# put your answer here\n",
        "class Node:\n",
        "    def __init__(self, data):\n",
        "        self.data = data\n",
        "        self.next = None\n",
        "\n",
        "class LinkedList:\n",
        "    def __init__(self):\n",
        "        self.head = None\n",
        "\n",
        "    def traverse(self, node):\n",
        "        print(\"[\", end=\"\")\n",
        "        while node:\n",
        "            print(node.data, end=\"\")\n",
        "            if node.next:\n",
        "                print(\", \", end=\"\")\n",
        "            node = node.next\n",
        "        print(\"]\", end=\"\")\n",
        "\n",
        "def create_linked_list_from_digits(number):\n",
        "    num_list = LinkedList()\n",
        "    for digit in str(number):\n",
        "        new_node = Node(int(digit))\n",
        "        if not num_list.head:\n",
        "            num_list.head = new_node\n",
        "        else:\n",
        "            current_node = num_list.head\n",
        "            while current_node.next:\n",
        "                current_node = current_node.next\n",
        "            current_node.next = new_node\n",
        "    return num_list\n",
        "\n",
        "def removeZeroes(linked_list):\n",
        "    current_node = linked_list.head\n",
        "    prev_node = None\n",
        "    zeros_found = False\n",
        "\n",
        "    while current_node:\n",
        "        if current_node.data == 0:\n",
        "            zeros_found = True\n",
        "            if prev_node:\n",
        "                prev_node.next = current_node.next\n",
        "            else:\n",
        "                linked_list.head = current_node.next\n",
        "        else:\n",
        "            prev_node = current_node\n",
        "\n",
        "        current_node = current_node.next\n",
        "\n",
        "    return linked_list if zeros_found else \"no zeros found\"\n",
        "\n",
        "student_number = 2022104964\n",
        "\n",
        "num_list = create_linked_list_from_digits(abs(student_number))\n",
        "\n",
        "result = removeZeroes(num_list)\n",
        "if isinstance(result, LinkedList):\n",
        "    result.traverse(result.head)\n",
        "else:\n",
        "    print(result)\n"
      ]
    },
    {
      "cell_type": "markdown",
      "metadata": {
        "id": "SKAlpglNFehT"
      },
      "source": [
        "4. Insert a dash symbol between the 4th and 5th digit in **num_list**. `(5 points)`\n",
        "\n",
        "    **Expected Output:**\n",
        "\n",
        "    print(num_list)\n",
        "\n",
        "    [2, 0, 2, 2, \"-\", 1, 2, 3, 4, 5, 6]"
      ]
    },
    {
      "cell_type": "code",
      "execution_count": 26,
      "metadata": {
        "id": "vF7fimZ-FehT",
        "outputId": "e36510fa-5bb6-416f-9207-c8c9756690d6",
        "colab": {
          "base_uri": "https://localhost:8080/"
        }
      },
      "outputs": [
        {
          "output_type": "stream",
          "name": "stdout",
          "text": [
            "[2, 0, 2, 2, -, 1, 0, 4, 9, 6, 4]\n"
          ]
        }
      ],
      "source": [
        "# put your answer here\n",
        "class Node:\n",
        "    def __init__(self, data):\n",
        "        self.data = data\n",
        "        self.next = None\n",
        "\n",
        "class LinkedList:\n",
        "    def __init__(self):\n",
        "        self.head = None\n",
        "\n",
        "    def traverse(self, node):\n",
        "        print(\"[\", end=\"\")\n",
        "        while node:\n",
        "            if node.data == '-':\n",
        "                print('-', end=\", \")\n",
        "            else:\n",
        "                print(node.data, end=\"\")\n",
        "                if node.next:\n",
        "                    print(\", \", end=\"\")\n",
        "            node = node.next\n",
        "        print(\"]\")\n",
        "\n",
        "def create_linked_list_from_digits(number):\n",
        "    num_list = LinkedList()\n",
        "    digits = str(number)\n",
        "    for i in range(len(digits)):\n",
        "        if i == 4:\n",
        "            new_node = Node(\"-\")\n",
        "            current_node = num_list.head\n",
        "            if not current_node:\n",
        "                num_list.head = new_node\n",
        "            else:\n",
        "                while current_node.next:\n",
        "                    current_node = current_node.next\n",
        "                current_node.next = new_node\n",
        "        new_node = Node(int(digits[i]))\n",
        "        current_node = num_list.head\n",
        "        if not current_node:\n",
        "            num_list.head = new_node\n",
        "        else:\n",
        "            while current_node.next:\n",
        "                current_node = current_node.next\n",
        "            current_node.next = new_node\n",
        "    return num_list\n",
        "\n",
        "student_number = 2022104964\n",
        "\n",
        "num_list = create_linked_list_from_digits(abs(student_number))\n",
        "\n",
        "num_list.traverse(num_list.head)\n"
      ]
    },
    {
      "cell_type": "markdown",
      "metadata": {
        "id": "KkC-LgdxFehT"
      },
      "source": [
        "## Stack"
      ]
    },
    {
      "cell_type": "code",
      "execution_count": null,
      "metadata": {
        "id": "UYTqB1u_FehU"
      },
      "outputs": [],
      "source": [
        "# Creating a stack\n",
        "def create_stack():\n",
        "    stack = []\n",
        "    return stack\n",
        "\n",
        "\n",
        "def print_stack(stack):\n",
        "\n",
        "    if (check_empty(stack)):\n",
        "        return \"stack is empty\"\n",
        "\n",
        "    # Create a copy of the stack and reverse the elements\n",
        "    tempStack = stack.copy()\n",
        "    tempStack.reverse()\n",
        "\n",
        "    # Print all elements using a loop\n",
        "    for i in tempStack:\n",
        "        print(i)\n",
        "\n",
        "    # Delete the copy to free up memory\n",
        "    del tempStack\n",
        "\n",
        "# Creating an empty stack\n",
        "\n",
        "\n",
        "def check_empty(stack):\n",
        "    return len(stack) == 0\n",
        "\n",
        "\n",
        "# Adding items into the stack\n",
        "def push(stack, item):\n",
        "    stack.append(item)\n",
        "    print(\"pushed item: \" + item)\n",
        "\n",
        "\n",
        "# Removing an element from the stack\n",
        "def pop(stack):\n",
        "    if (check_empty(stack)):\n",
        "        return \"stack is empty\"\n",
        "\n",
        "    return stack.pop()\n",
        "\n",
        "\n",
        "def peek(stack):\n",
        "\n",
        "    # Use negative indexing to display the last element of the list\n",
        "    print(stack[-1])"
      ]
    },
    {
      "cell_type": "markdown",
      "metadata": {
        "id": "wLAQchs8FehU"
      },
      "source": [
        "**Instructions** ❗️❗️\n",
        "\n",
        "Use the pre-defined stack class/functions to create a stack"
      ]
    },
    {
      "cell_type": "markdown",
      "metadata": {
        "id": "37cg9BoCFehU"
      },
      "source": [
        "1. Create two (2) stacks named **name_stack** and **num_stack** `(5 points)`\n",
        "\n",
        "- **name_stack** should contain all letters of your first name.\n",
        "- **num_stack** should contain all digits of your student number.\n",
        "\n",
        "    **Expected Output:**\n",
        "\n",
        "    print(name_stack)\n",
        "\n",
        "    ['E', 'L', 'I', 'Z', 'E', 'R']\n",
        "\n",
        "    print(num_stack)\n",
        "\n",
        "    [2,0,2,2,1,2,3,4,5,6]"
      ]
    },
    {
      "cell_type": "code",
      "execution_count": 29,
      "metadata": {
        "id": "HlUIUQzQFehU",
        "outputId": "4e3b9f45-d152-420c-93ac-394b639725ed",
        "colab": {
          "base_uri": "https://localhost:8080/"
        }
      },
      "outputs": [
        {
          "output_type": "stream",
          "name": "stdout",
          "text": [
            "['I', 'V', 'A', 'N']\n",
            "[2, 0, 2, 2, 1, 0, 4, 9, 6, 4]\n"
          ]
        }
      ],
      "source": [
        "# put your answer here\n",
        "def create_stack():\n",
        "    stack = []\n",
        "    return stack\n",
        "\n",
        "def check_empty(stack):\n",
        "    return len(stack) == 0\n",
        "\n",
        "def push(stack, item):\n",
        "    stack.append(item)\n",
        "\n",
        "def pop(stack):\n",
        "    if check_empty(stack):\n",
        "        return \"stack is empty\"\n",
        "    return stack.pop()\n",
        "\n",
        "def create_name_stack():\n",
        "    name = \"IVAN\"\n",
        "    name_stack = create_stack()\n",
        "    for letter in name:\n",
        "        push(name_stack, letter)\n",
        "    return name_stack\n",
        "\n",
        "def create_num_stack():\n",
        "    student_number = \"2022104964\"\n",
        "    num_stack = create_stack()\n",
        "    for digit in student_number:\n",
        "        push(num_stack, int(digit))\n",
        "    return num_stack\n",
        "\n",
        "name_stack = create_name_stack()\n",
        "print(name_stack)\n",
        "\n",
        "num_stack = create_num_stack()\n",
        "print(num_stack)\n"
      ]
    },
    {
      "cell_type": "markdown",
      "metadata": {
        "id": "8cySe9LXFehU"
      },
      "source": [
        "2. Create a stack named **my_stack** that follows the following format: `(5 points)`\n",
        "\n",
        "- The first element should be the **5th digit in your student number**\n",
        "- The succeeding elements should be the letters of your **first name**\n",
        "- The last element should be the **last digit of your student number**\n",
        "\n",
        "    **Expected Output:**\n",
        "\n",
        "    my_stack = [1, E, L, I, Z, E, R, 6]"
      ]
    },
    {
      "cell_type": "code",
      "execution_count": 31,
      "metadata": {
        "id": "bEnCoAhjFehU",
        "outputId": "05aa36df-a990-43be-843d-5313d70e8c86",
        "colab": {
          "base_uri": "https://localhost:8080/"
        }
      },
      "outputs": [
        {
          "output_type": "stream",
          "name": "stdout",
          "text": [
            "[1, 'I', 'V', 'A', 'N', 4]\n"
          ]
        }
      ],
      "source": [
        "# put your answer here\n",
        "def create_stack():\n",
        "    stack = []\n",
        "    return stack\n",
        "\n",
        "def check_empty(stack):\n",
        "    return len(stack) == 0\n",
        "\n",
        "def push(stack, item):\n",
        "    stack.append(item)\n",
        "\n",
        "def pop(stack):\n",
        "    if check_empty(stack):\n",
        "        return \"stack is empty\"\n",
        "    return stack.pop()\n",
        "\n",
        "def create_my_stack():\n",
        "    student_number = \"2022104964\"\n",
        "    first_name = \"IVAN\"\n",
        "\n",
        "    my_stack = create_stack()\n",
        "\n",
        "    push(my_stack, int(student_number[4]))\n",
        "\n",
        "    for letter in first_name:\n",
        "        push(my_stack, letter)\n",
        "\n",
        "    push(my_stack, int(student_number[-1]))\n",
        "\n",
        "    return my_stack\n",
        "\n",
        "print(create_my_stack())\n"
      ]
    },
    {
      "cell_type": "markdown",
      "metadata": {
        "id": "8a8_KP5nFehU"
      },
      "source": [
        "3. Write a `verifyStack()` function that will take in `my_stack` and check if its format has been followed `(10 points)`\n",
        "\n",
        "- Return **True** if the format has been followed\n",
        "- Return **False** if the format was not followed\n",
        "- Verify the format by checking the contents of **my_stack** with **name_stack** and **num_stack**\n",
        "\n",
        "    **Expected Output:**\n",
        "\n",
        "    my_stack = [1, E, L, I, Z, E, R, 6]\n",
        "\n",
        "    verifyStack(my_stack)\n",
        "\n",
        "    True\n",
        "\n",
        "    my_stack = [1, S, L, I, Z, E, R, 7]\n",
        "\n",
        "    verifyStack(my_stack)\n",
        "\n",
        "    False"
      ]
    },
    {
      "cell_type": "code",
      "execution_count": 32,
      "metadata": {
        "id": "RdANSxD0FehU",
        "outputId": "9433b069-0cfb-46ba-e60b-d07f0fb60a19",
        "colab": {
          "base_uri": "https://localhost:8080/"
        }
      },
      "outputs": [
        {
          "output_type": "stream",
          "name": "stdout",
          "text": [
            "[1, 'I', 'V', 'A', 'N', 4]\n",
            "True\n"
          ]
        }
      ],
      "source": [
        "# put your answer here\n",
        "def verifyStack(my_stack):\n",
        "    student_number = \"2022104964\"\n",
        "    first_name = \"IVAN\"\n",
        "\n",
        "    expected_name_stack = create_stack()\n",
        "    expected_num_stack = create_stack()\n",
        "\n",
        "    for letter in first_name:\n",
        "        push(expected_name_stack, letter)\n",
        "\n",
        "    for digit in student_number:\n",
        "        push(expected_num_stack, int(digit))\n",
        "\n",
        "    if my_stack[0] == expected_num_stack[4] and my_stack[1:5] == expected_name_stack and my_stack[-1] == expected_num_stack[-1]:\n",
        "        return True\n",
        "\n",
        "    return False\n",
        "\n",
        "my_stack = create_my_stack()\n",
        "\n",
        "print(my_stack)\n",
        "print(verifyStack(my_stack))\n"
      ]
    },
    {
      "cell_type": "markdown",
      "metadata": {
        "id": "UC5C64B2FehU"
      },
      "source": [
        "## Queue"
      ]
    },
    {
      "cell_type": "code",
      "execution_count": null,
      "metadata": {
        "id": "NJJ0j0LHFehU"
      },
      "outputs": [],
      "source": [
        "class Queue:\n",
        "    def __init__(self):\n",
        "        self.queue = []\n",
        "\n",
        "    # Add an element\n",
        "    def enqueue(self, item):\n",
        "        self.queue.append(item)\n",
        "\n",
        "    # Remove an element\n",
        "    def dequeue(self):\n",
        "        if len(self.queue) < 1:\n",
        "            return None\n",
        "        return self.queue.pop(0)\n",
        "\n",
        "    # Display  the queue\n",
        "    def display(self):\n",
        "        print(self.queue)\n",
        "\n",
        "    def size(self):\n",
        "        return len(self.queue)\n",
        "\n",
        "    def peek(self):\n",
        "        return self.queue[0]"
      ]
    },
    {
      "cell_type": "markdown",
      "metadata": {
        "id": "80OekpbeFehV"
      },
      "source": [
        "**Instructions** ❗️❗️\n",
        "\n",
        "Use the pre-defined queue class/functions to create a Queue"
      ]
    },
    {
      "cell_type": "markdown",
      "metadata": {
        "id": "_Hf0OP5cFehV"
      },
      "source": [
        "1. Create a simple queue named **num_queue** `(5 points)`\n",
        "\n",
        "- **num_queue** should contain all digits of your student number.\n",
        "\n",
        "    **Expected Output:**\n",
        "\n",
        "    print(num_queue)\n",
        "\n",
        "    [2,0,2,2,1,2,3,4,5,6]"
      ]
    },
    {
      "cell_type": "code",
      "execution_count": 34,
      "metadata": {
        "id": "_mgmE4ArFehV",
        "outputId": "436a7df4-53a3-47d2-b505-b448133768f2",
        "colab": {
          "base_uri": "https://localhost:8080/"
        }
      },
      "outputs": [
        {
          "output_type": "stream",
          "name": "stdout",
          "text": [
            "[2, 0, 2, 2, 1, 0, 4, 9, 6, 4]\n"
          ]
        }
      ],
      "source": [
        "# put your answer here\n",
        "class Queue:\n",
        "    def __init__(self):\n",
        "        self.queue = []\n",
        "\n",
        "    def enqueue(self, item):\n",
        "        self.queue.append(item)\n",
        "\n",
        "    def dequeue(self):\n",
        "        if len(self.queue) < 1:\n",
        "            return None\n",
        "        return self.queue.pop(0)\n",
        "\n",
        "    def display(self):\n",
        "        print(self.queue)\n",
        "\n",
        "    def size(self):\n",
        "        return len(self.queue)\n",
        "\n",
        "    def peek(self):\n",
        "        return self.queue[0]\n",
        "\n",
        "student_number = \"2022104964\"\n",
        "\n",
        "num_queue = Queue()\n",
        "\n",
        "for digit in student_number:\n",
        "    num_queue.enqueue(int(digit))\n",
        "\n",
        "num_queue.display()\n"
      ]
    },
    {
      "cell_type": "markdown",
      "metadata": {
        "id": "1pHG8t6DFehV"
      },
      "source": [
        "2. Write a `getMax()` or `getMin()` function for **num_queue** `(5 points)`\n",
        "\n",
        "- If your student number ends with an odd number, create a `getMax()` function that will return the largest number in **num_queue**\n",
        "- If your student number ends with an even number, create a `getMin()` function that will return the lowest number in **num_queue**\n",
        "\n",
        "    **Expected Output for getMax():**\n",
        "\n",
        "    getMax(num_queue)\n",
        "\n",
        "    6\n",
        "\n",
        "    **Expected Output for getMin():**\n",
        "\n",
        "    getMin(num_queue)\n",
        "\n",
        "    0"
      ]
    },
    {
      "cell_type": "code",
      "execution_count": 36,
      "metadata": {
        "id": "itj2U610FehV",
        "outputId": "a65a776e-e130-4556-a4c6-222046b4bfca",
        "colab": {
          "base_uri": "https://localhost:8080/"
        }
      },
      "outputs": [
        {
          "output_type": "stream",
          "name": "stdout",
          "text": [
            "Min number: 0\n"
          ]
        }
      ],
      "source": [
        "# put your answer here\n",
        "class Queue:\n",
        "    def __init__(self):\n",
        "        self.queue = []\n",
        "\n",
        "    def enqueue(self, item):\n",
        "        self.queue.append(item)\n",
        "\n",
        "    def dequeue(self):\n",
        "        if len(self.queue) < 1:\n",
        "            return None\n",
        "        return self.queue.pop(0)\n",
        "\n",
        "    def display(self):\n",
        "        print(self.queue)\n",
        "\n",
        "    def size(self):\n",
        "        return len(self.queue)\n",
        "\n",
        "    def peek(self):\n",
        "        return self.queue[0]\n",
        "\n",
        "def getMax(queue):\n",
        "    if queue.size() == 0:\n",
        "        return None\n",
        "    return max(queue.queue)\n",
        "\n",
        "def getMin(queue):\n",
        "    if queue.size() == 0:\n",
        "        return None\n",
        "    return min(queue.queue)\n",
        "\n",
        "student_number = \"2022104964\"\n",
        "\n",
        "num_queue = Queue()\n",
        "\n",
        "for digit in student_number:\n",
        "    num_queue.enqueue(int(digit))\n",
        "\n",
        "last_digit = int(student_number[-1])\n",
        "if last_digit % 2 == 1:\n",
        "    print(\"Max number:\", getMax(num_queue))\n",
        "else:\n",
        "    print(\"Min number:\", getMin(num_queue))\n"
      ]
    },
    {
      "cell_type": "markdown",
      "metadata": {
        "id": "YkgmP6GwFehV"
      },
      "source": [
        "3. Write a `getOdd()` or `getEven()` function for  **num_queue** `(5 points)`\n",
        "\n",
        "- If your student number ends with an **odd number**, create a `getOdd()` function that will return all odd numbers in **num_queue**\n",
        "- If your student number ends with an **even number**, create a `getEven()` function that will return all even numbers in **num_queue**\n",
        "\n",
        "    **Expected Output for getOdd():**\n",
        "\n",
        "    getOdd(num_queue)\n",
        "\n",
        "    [1, 3, 5]\n",
        "\n",
        "    **Expected Output for getEven():**\n",
        "\n",
        "    getEven(num_queue)\n",
        "\n",
        "    [0, 2, 4, 6]"
      ]
    },
    {
      "cell_type": "code",
      "execution_count": 38,
      "metadata": {
        "id": "2Bc7E1zNFehV",
        "outputId": "7f3146b0-37ae-477c-9dd1-a8f363fd44c2",
        "colab": {
          "base_uri": "https://localhost:8080/"
        }
      },
      "outputs": [
        {
          "output_type": "stream",
          "name": "stdout",
          "text": [
            "[2, 0, 2, 2, 1, 0, 4, 9, 6, 4]\n",
            "Even numbers: [2, 0, 2, 2, 0, 4, 6, 4]\n"
          ]
        }
      ],
      "source": [
        "# put your answer here\n",
        "class Queue:\n",
        "    def __init__(self):\n",
        "        self.queue = []\n",
        "\n",
        "    def enqueue(self, item):\n",
        "        self.queue.append(item)\n",
        "\n",
        "    def dequeue(self):\n",
        "        if len(self.queue) < 1:\n",
        "            return None\n",
        "        return self.queue.pop(0)\n",
        "\n",
        "    def display(self):\n",
        "        print(self.queue)\n",
        "\n",
        "    def size(self):\n",
        "        return len(self.queue)\n",
        "\n",
        "    def peek(self):\n",
        "        return self.queue[0]\n",
        "\n",
        "def getOdd(queue):\n",
        "    return [item for item in queue.queue if item % 2 != 0]\n",
        "\n",
        "def getEven(queue):\n",
        "    return [item for item in queue.queue if item % 2 == 0]\n",
        "\n",
        "student_number = \"2022104964\"\n",
        "\n",
        "num_queue = Queue()\n",
        "\n",
        "for digit in student_number:\n",
        "    num_queue.enqueue(int(digit))\n",
        "\n",
        "num_queue.display()\n",
        "\n",
        "last_digit = int(student_number[-1])\n",
        "if last_digit % 2 == 1:\n",
        "    print(\"Odd numbers:\", getOdd(num_queue))\n",
        "else:\n",
        "    print(\"Even numbers:\", getEven(num_queue))\n"
      ]
    },
    {
      "cell_type": "markdown",
      "metadata": {
        "id": "kuzWF5g4FehV"
      },
      "source": [
        "4. Write a `removeDup()` function that will remove all duplicates in **num_queue** `(5 points)`\n",
        "\n",
        "    **Expected Output:**\n",
        "\n",
        "    removeDup(num_queue)\n",
        "\n",
        "    [2,0,1,3,4,5,6]"
      ]
    },
    {
      "cell_type": "code",
      "execution_count": 44,
      "metadata": {
        "id": "I8LeQP8MFehY",
        "outputId": "219d6729-723f-4272-ec04-bfbfc4505653",
        "colab": {
          "base_uri": "https://localhost:8080/"
        }
      },
      "outputs": [
        {
          "output_type": "stream",
          "name": "stdout",
          "text": [
            "[2, 0, 2, 2, 1, 0, 4, 9, 6, 4]\n",
            "\n",
            "\n",
            "[2, 0, 1, 4, 9, 6]\n"
          ]
        }
      ],
      "source": [
        "# put your answer here\n",
        "class Queue:\n",
        "    def __init__(self):\n",
        "        self.queue = []\n",
        "\n",
        "    def enqueue(self, item):\n",
        "        self.queue.append(item)\n",
        "\n",
        "    def dequeue(self):\n",
        "        if len(self.queue) < 1:\n",
        "            return None\n",
        "        return self.queue.pop(0)\n",
        "\n",
        "    def display(self):\n",
        "        print(self.queue)\n",
        "\n",
        "    def size(self):\n",
        "        return len(self.queue)\n",
        "\n",
        "    def peek(self):\n",
        "        return self.queue[0]\n",
        "\n",
        "def removeDup(queue):\n",
        "    unique_elements = set()\n",
        "\n",
        "    non_duplicate_queue = Queue()\n",
        "\n",
        "    while queue.size() > 0:\n",
        "        item = queue.dequeue()\n",
        "        if item not in unique_elements:\n",
        "            unique_elements.add(item)\n",
        "            non_duplicate_queue.enqueue(item)\n",
        "\n",
        "    queue.queue = non_duplicate_queue.queue\n",
        "\n",
        "student_number = \"2022104964\"\n",
        "\n",
        "num_queue = Queue()\n",
        "\n",
        "for digit in student_number:\n",
        "    num_queue.enqueue(int(digit))\n",
        "\n",
        "num_queue.display()\n",
        "\n",
        "removeDup(num_queue)\n",
        "\n",
        "print(\"\\n\")\n",
        "num_queue.display()\n"
      ]
    },
    {
      "cell_type": "markdown",
      "metadata": {
        "id": "LVfZTh8YFehZ"
      },
      "source": [
        "## Sort"
      ]
    },
    {
      "cell_type": "markdown",
      "metadata": {
        "id": "bm9lonfzFehZ"
      },
      "source": [
        "**Instructions** ❗️❗️\n",
        "\n",
        "Use the any sorting algoritms"
      ]
    },
    {
      "cell_type": "markdown",
      "metadata": {
        "id": "EJTlxhEdFehZ"
      },
      "source": [
        "1. Using any sorting algorithm, sort the **last 6 digits** of your student number in ascending order `(5 points)`\n",
        "\n",
        "    **Example:**\n",
        "\n",
        "    student_number = [2,0,2,2,6,2,5,1,3,4]\n",
        "\n",
        "    **Expected Output:**\n",
        "\n",
        "    print(student_number)\n",
        "\n",
        "    [2,0,2,2,1,2,3,4,5,6]\n"
      ]
    },
    {
      "cell_type": "code",
      "execution_count": 55,
      "metadata": {
        "id": "MkZKfveOFehZ",
        "outputId": "60809172-3bdd-4667-cdce-42b3a7e6a948",
        "colab": {
          "base_uri": "https://localhost:8080/"
        }
      },
      "outputs": [
        {
          "output_type": "stream",
          "name": "stdout",
          "text": [
            "Student number: [2, 0, 2, 2, 1, 0, 4, 9, 6, 4]\n",
            "[2, 0, 2, 2, 0, 1, 4, 4, 6, 9]\n"
          ]
        }
      ],
      "source": [
        "# put your answer here\n",
        "def bubble_sort(arr):\n",
        "    n = len(arr)\n",
        "\n",
        "    for i in range(n):\n",
        "        for j in range(0, n-i-1):\n",
        "            if arr[j] > arr[j+1]:\n",
        "                arr[j], arr[j+1] = arr[j+1], arr[j]\n",
        "\n",
        "student_number = [2, 0, 2, 2, 1, 0, 4, 9, 6, 4]\n",
        "last_six_digits = student_number[-6:]\n",
        "\n",
        "print(\"Student number:\", student_number)\n",
        "\n",
        "bubble_sort(last_six_digits)\n",
        "\n",
        "student_number[-6:] = last_six_digits\n",
        "\n",
        "print(student_number)\n"
      ]
    },
    {
      "cell_type": "markdown",
      "metadata": {
        "id": "sC2JZRZMFehZ"
      },
      "source": [
        "2. Using your student_number, separately sort the even numbers in **increasing order** and the odd numbers in **decreasing order** `(15 points)`\n",
        "\n",
        "    **Example:**\n",
        "\n",
        "    student_number = [2,0,2,2,1,2,3,4,5,6]\n",
        "\n",
        "    **Expected Output:**\n",
        "\n",
        "    print(student_number)\n",
        "\n",
        "    [0,2,2,2,2,4,6,5,3,1]"
      ]
    },
    {
      "cell_type": "code",
      "execution_count": 62,
      "metadata": {
        "id": "hWOh_ohcFehZ",
        "outputId": "98557825-8155-4c28-ffe0-8f53fa1827d1",
        "colab": {
          "base_uri": "https://localhost:8080/"
        }
      },
      "outputs": [
        {
          "output_type": "stream",
          "name": "stdout",
          "text": [
            "student number = 2022104964\n",
            "[0, 0, 2, 2, 2, 4, 4, 6, 9, 1]\n"
          ]
        }
      ],
      "source": [
        "# put your answer here\n",
        "def bubble_sort(arr, reverse=False):\n",
        "    n = len(arr)\n",
        "    for i in range(n):\n",
        "        for j in range(0, n-i-1):\n",
        "            if (reverse and arr[j] < arr[j+1]) or (not reverse and arr[j] > arr[j+1]):\n",
        "                arr[j], arr[j+1] = arr[j+1], arr[j]\n",
        "\n",
        "student_number = 2022104964\n",
        "\n",
        "digits = [int(digit) for digit in str(student_number)]\n",
        "\n",
        "even_numbers = [digit for digit in digits if digit % 2 == 0]\n",
        "odd_numbers = [digit for digit in digits if digit % 2 != 0]\n",
        "\n",
        "bubble_sort(even_numbers)\n",
        "\n",
        "bubble_sort(odd_numbers, reverse=True)\n",
        "\n",
        "sorted_numbers = even_numbers + odd_numbers\n",
        "\n",
        "print(\"student number =\", student_number)\n",
        "print(sorted_numbers)"
      ]
    }
  ],
  "metadata": {
    "kernelspec": {
      "display_name": "Python 3",
      "language": "python",
      "name": "python3"
    },
    "language_info": {
      "codemirror_mode": {
        "name": "ipython",
        "version": 3
      },
      "file_extension": ".py",
      "mimetype": "text/x-python",
      "name": "python",
      "nbconvert_exporter": "python",
      "pygments_lexer": "ipython3",
      "version": "3.9.13"
    },
    "orig_nbformat": 4,
    "colab": {
      "provenance": []
    }
  },
  "nbformat": 4,
  "nbformat_minor": 0
}